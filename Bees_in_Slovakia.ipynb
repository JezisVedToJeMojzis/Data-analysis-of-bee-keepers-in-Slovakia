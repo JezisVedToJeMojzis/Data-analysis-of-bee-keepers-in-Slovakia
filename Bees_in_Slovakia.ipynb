{
 "cells": [
  {
   "cell_type": "markdown",
   "id": "8c54f89b",
   "metadata": {},
   "source": [
    "<font color='orange'>Data analysis of all the bee keepers around Slovakia</font>"
   ]
  },
  {
   "cell_type": "code",
   "execution_count": 1,
   "id": "e8d8fb63",
   "metadata": {},
   "outputs": [],
   "source": [
    "#import libraries\n",
    "import pandas as pd\n",
    "import numpy as np\n",
    "import matplotlib.pyplot as plt\n",
    "import seaborn as sns"
   ]
  },
  {
   "cell_type": "code",
   "execution_count": 2,
   "id": "2b653288",
   "metadata": {},
   "outputs": [],
   "source": [
    "#get dataframe\n",
    "df = pd.read_csv(\"Bees2023.csv\", encoding='utf-8')"
   ]
  },
  {
   "cell_type": "markdown",
   "id": "ac25087e",
   "metadata": {},
   "source": [
    "<font color='orange'>Parameters of dataset:</font>"
   ]
  },
  {
   "cell_type": "code",
   "execution_count": 3,
   "id": "a540cc33",
   "metadata": {},
   "outputs": [
    {
     "name": "stdout",
     "output_type": "stream",
     "text": [
      "Number of rows: 26248\n",
      "Number of columns: 5\n"
     ]
    }
   ],
   "source": [
    "num_rows, num_columns = df.shape\n",
    "\n",
    "print(\"Number of rows:\", num_rows)\n",
    "print(\"Number of columns:\", num_columns)"
   ]
  },
  {
   "cell_type": "code",
   "execution_count": 4,
   "id": "0c705234",
   "metadata": {},
   "outputs": [
    {
     "name": "stdout",
     "output_type": "stream",
     "text": [
      "Column Headers: Index(['Cadastral territory', 'Municipality', 'Region', 'County', 'Amount'], dtype='object')\n"
     ]
    },
    {
     "data": {
      "text/html": [
       "<div>\n",
       "<style scoped>\n",
       "    .dataframe tbody tr th:only-of-type {\n",
       "        vertical-align: middle;\n",
       "    }\n",
       "\n",
       "    .dataframe tbody tr th {\n",
       "        vertical-align: top;\n",
       "    }\n",
       "\n",
       "    .dataframe thead th {\n",
       "        text-align: right;\n",
       "    }\n",
       "</style>\n",
       "<table border=\"1\" class=\"dataframe\">\n",
       "  <thead>\n",
       "    <tr style=\"text-align: right;\">\n",
       "      <th></th>\n",
       "      <th>Cadastral territory</th>\n",
       "      <th>Municipality</th>\n",
       "      <th>Region</th>\n",
       "      <th>County</th>\n",
       "      <th>Amount</th>\n",
       "    </tr>\n",
       "  </thead>\n",
       "  <tbody>\n",
       "    <tr>\n",
       "      <th>0</th>\n",
       "      <td>Vinohrady nad Váhom</td>\n",
       "      <td>Vinohrady nad Váhom</td>\n",
       "      <td>GALANTA</td>\n",
       "      <td>Galanta</td>\n",
       "      <td>30</td>\n",
       "    </tr>\n",
       "    <tr>\n",
       "      <th>1</th>\n",
       "      <td>Vinohrady nad Váhom</td>\n",
       "      <td>Vinohrady nad Váhom</td>\n",
       "      <td>GALANTA</td>\n",
       "      <td>Galanta</td>\n",
       "      <td>16</td>\n",
       "    </tr>\n",
       "    <tr>\n",
       "      <th>2</th>\n",
       "      <td>Vinohrady nad Váhom</td>\n",
       "      <td>Vinohrady nad Váhom</td>\n",
       "      <td>GALANTA</td>\n",
       "      <td>Galanta</td>\n",
       "      <td>5</td>\n",
       "    </tr>\n",
       "    <tr>\n",
       "      <th>3</th>\n",
       "      <td>Vinohrady nad Váhom</td>\n",
       "      <td>Vinohrady nad Váhom</td>\n",
       "      <td>GALANTA</td>\n",
       "      <td>Galanta</td>\n",
       "      <td>0</td>\n",
       "    </tr>\n",
       "    <tr>\n",
       "      <th>4</th>\n",
       "      <td>Vinohrady nad Váhom</td>\n",
       "      <td>Vinohrady nad Váhom</td>\n",
       "      <td>GALANTA</td>\n",
       "      <td>Galanta</td>\n",
       "      <td>14</td>\n",
       "    </tr>\n",
       "  </tbody>\n",
       "</table>\n",
       "</div>"
      ],
      "text/plain": [
       "   Cadastral territory         Municipality   Region   County  Amount\n",
       "0  Vinohrady nad Váhom  Vinohrady nad Váhom  GALANTA  Galanta      30\n",
       "1  Vinohrady nad Váhom  Vinohrady nad Váhom  GALANTA  Galanta      16\n",
       "2  Vinohrady nad Váhom  Vinohrady nad Váhom  GALANTA  Galanta       5\n",
       "3  Vinohrady nad Váhom  Vinohrady nad Váhom  GALANTA  Galanta       0\n",
       "4  Vinohrady nad Váhom  Vinohrady nad Váhom  GALANTA  Galanta      14"
      ]
     },
     "execution_count": 4,
     "metadata": {},
     "output_type": "execute_result"
    }
   ],
   "source": [
    "column_headers = df.columns\n",
    "\n",
    "print(\"Column Headers:\", column_headers)\n",
    "df.head()"
   ]
  },
  {
   "cell_type": "markdown",
   "id": "ca3f0461",
   "metadata": {},
   "source": [
    "<font color='orange'>Configuration of dataframe:</font>"
   ]
  },
  {
   "cell_type": "code",
   "execution_count": 5,
   "id": "859d0396",
   "metadata": {},
   "outputs": [
    {
     "name": "stdout",
     "output_type": "stream",
     "text": [
      "Column Headers: Index(['Cadastral territory', 'Municipality', 'Region', 'County', 'Amount'], dtype='object')\n"
     ]
    }
   ],
   "source": [
    "column_headers = df.columns\n",
    "\n",
    "print(\"Column Headers:\", column_headers)"
   ]
  },
  {
   "cell_type": "markdown",
   "id": "028bd51a",
   "metadata": {},
   "source": [
    "<font color='orange'>Create new data frame (df1) with unique values:</font>"
   ]
  },
  {
   "cell_type": "code",
   "execution_count": 6,
   "id": "0f64a6ab",
   "metadata": {},
   "outputs": [
    {
     "name": "stdout",
     "output_type": "stream",
     "text": [
      "       Cadastral territory         Municipality   Region   County  Amount\n",
      "0      Vinohrady nad Váhom  Vinohrady nad Váhom  GALANTA  Galanta      30\n",
      "21                Vozokany             Vozokany  GALANTA  Galanta      10\n",
      "24          Zemianske Sady       Zemianske Sady  GALANTA  Galanta      10\n",
      "29                 Šoporňa              Šoporňa  GALANTA  Galanta       4\n",
      "35              Tomášikovo           Tomášikovo  GALANTA  Galanta     100\n",
      "...                    ...                  ...      ...      ...     ...\n",
      "26189               Bzovík               Bzovík  KRUPINA   Zvolen       1\n",
      "26202      Bzovská Lehôtka      Bzovská Lehôtka   ZVOLEN   Zvolen      18\n",
      "26204               Cerovo               Cerovo  KRUPINA   Zvolen       9\n",
      "26206    Čabradský Vrbovok    Čabradský Vrbovok  KRUPINA   Zvolen       4\n",
      "26209              Čekovce              Čekovce  KRUPINA   Zvolen      11\n",
      "\n",
      "[3377 rows x 5 columns]\n"
     ]
    }
   ],
   "source": [
    "df1 = df.drop_duplicates(subset=[\"Cadastral territory\", \"Municipality\", \"Region\", \"County\"])\n",
    "df1.shape\n",
    "print(df1)"
   ]
  },
  {
   "cell_type": "code",
   "execution_count": 7,
   "id": "a929c7b8",
   "metadata": {},
   "outputs": [
    {
     "data": {
      "text/html": [
       "<div>\n",
       "<style scoped>\n",
       "    .dataframe tbody tr th:only-of-type {\n",
       "        vertical-align: middle;\n",
       "    }\n",
       "\n",
       "    .dataframe tbody tr th {\n",
       "        vertical-align: top;\n",
       "    }\n",
       "\n",
       "    .dataframe thead th {\n",
       "        text-align: right;\n",
       "    }\n",
       "</style>\n",
       "<table border=\"1\" class=\"dataframe\">\n",
       "  <thead>\n",
       "    <tr style=\"text-align: right;\">\n",
       "      <th></th>\n",
       "      <th>Cadastral territory</th>\n",
       "      <th>Municipality</th>\n",
       "      <th>Region</th>\n",
       "      <th>County</th>\n",
       "    </tr>\n",
       "  </thead>\n",
       "  <tbody>\n",
       "    <tr>\n",
       "      <th>0</th>\n",
       "      <td>Vinohrady nad Váhom</td>\n",
       "      <td>Vinohrady nad Váhom</td>\n",
       "      <td>GALANTA</td>\n",
       "      <td>Galanta</td>\n",
       "    </tr>\n",
       "    <tr>\n",
       "      <th>21</th>\n",
       "      <td>Vozokany</td>\n",
       "      <td>Vozokany</td>\n",
       "      <td>GALANTA</td>\n",
       "      <td>Galanta</td>\n",
       "    </tr>\n",
       "    <tr>\n",
       "      <th>24</th>\n",
       "      <td>Zemianske Sady</td>\n",
       "      <td>Zemianske Sady</td>\n",
       "      <td>GALANTA</td>\n",
       "      <td>Galanta</td>\n",
       "    </tr>\n",
       "    <tr>\n",
       "      <th>29</th>\n",
       "      <td>Šoporňa</td>\n",
       "      <td>Šoporňa</td>\n",
       "      <td>GALANTA</td>\n",
       "      <td>Galanta</td>\n",
       "    </tr>\n",
       "    <tr>\n",
       "      <th>35</th>\n",
       "      <td>Tomášikovo</td>\n",
       "      <td>Tomášikovo</td>\n",
       "      <td>GALANTA</td>\n",
       "      <td>Galanta</td>\n",
       "    </tr>\n",
       "    <tr>\n",
       "      <th>...</th>\n",
       "      <td>...</td>\n",
       "      <td>...</td>\n",
       "      <td>...</td>\n",
       "      <td>...</td>\n",
       "    </tr>\n",
       "    <tr>\n",
       "      <th>26189</th>\n",
       "      <td>Bzovík</td>\n",
       "      <td>Bzovík</td>\n",
       "      <td>KRUPINA</td>\n",
       "      <td>Zvolen</td>\n",
       "    </tr>\n",
       "    <tr>\n",
       "      <th>26202</th>\n",
       "      <td>Bzovská Lehôtka</td>\n",
       "      <td>Bzovská Lehôtka</td>\n",
       "      <td>ZVOLEN</td>\n",
       "      <td>Zvolen</td>\n",
       "    </tr>\n",
       "    <tr>\n",
       "      <th>26204</th>\n",
       "      <td>Cerovo</td>\n",
       "      <td>Cerovo</td>\n",
       "      <td>KRUPINA</td>\n",
       "      <td>Zvolen</td>\n",
       "    </tr>\n",
       "    <tr>\n",
       "      <th>26206</th>\n",
       "      <td>Čabradský Vrbovok</td>\n",
       "      <td>Čabradský Vrbovok</td>\n",
       "      <td>KRUPINA</td>\n",
       "      <td>Zvolen</td>\n",
       "    </tr>\n",
       "    <tr>\n",
       "      <th>26209</th>\n",
       "      <td>Čekovce</td>\n",
       "      <td>Čekovce</td>\n",
       "      <td>KRUPINA</td>\n",
       "      <td>Zvolen</td>\n",
       "    </tr>\n",
       "  </tbody>\n",
       "</table>\n",
       "<p>3377 rows × 4 columns</p>\n",
       "</div>"
      ],
      "text/plain": [
       "       Cadastral territory         Municipality   Region   County\n",
       "0      Vinohrady nad Váhom  Vinohrady nad Váhom  GALANTA  Galanta\n",
       "21                Vozokany             Vozokany  GALANTA  Galanta\n",
       "24          Zemianske Sady       Zemianske Sady  GALANTA  Galanta\n",
       "29                 Šoporňa              Šoporňa  GALANTA  Galanta\n",
       "35              Tomášikovo           Tomášikovo  GALANTA  Galanta\n",
       "...                    ...                  ...      ...      ...\n",
       "26189               Bzovík               Bzovík  KRUPINA   Zvolen\n",
       "26202      Bzovská Lehôtka      Bzovská Lehôtka   ZVOLEN   Zvolen\n",
       "26204               Cerovo               Cerovo  KRUPINA   Zvolen\n",
       "26206    Čabradský Vrbovok    Čabradský Vrbovok  KRUPINA   Zvolen\n",
       "26209              Čekovce              Čekovce  KRUPINA   Zvolen\n",
       "\n",
       "[3377 rows x 4 columns]"
      ]
     },
     "execution_count": 7,
     "metadata": {},
     "output_type": "execute_result"
    }
   ],
   "source": [
    "#Dropping amounts\n",
    "df1.drop('Amount', axis=1)"
   ]
  },
  {
   "cell_type": "markdown",
   "id": "3a9f2a51",
   "metadata": {},
   "source": [
    "<font color='orange'>Calculate number of bee hives per cadastral territory: (Here we count the number of occurences of each row from df1 in df (original data frame))</font>"
   ]
  },
  {
   "cell_type": "code",
   "execution_count": 8,
   "id": "4a165845",
   "metadata": {},
   "outputs": [
    {
     "name": "stdout",
     "output_type": "stream",
     "text": [
      "\n",
      "Count of occurrences in df:\n",
      "     Cadastral territory Municipality              Region           County  \\\n",
      "0                Abrahám      Abrahám             GALANTA          Galanta   \n",
      "1            Abrahámovce  Abrahámovce            BARDEJOV         Bardejov   \n",
      "2            Abrahámovce  Abrahámovce            KEŽMAROK           Poprad   \n",
      "3               Abramová     Abramová  TURČIANSKE TEPLICE           Martin   \n",
      "4              Abranovce    Abranovce              PREŠOV           Prešov   \n",
      "...                  ...          ...                 ...              ...   \n",
      "3372             Žlkovce      Žlkovce            HLOHOVEC           Trnava   \n",
      "3373              Župkov       Župkov           ŽARNOVICA  Žiar nad Hronom   \n",
      "3374             Župčany      Župčany              PREŠOV           Prešov   \n",
      "3375                 Žíp          Žíp     RIMAVSKÁ SOBOTA  Rimavská Sobota   \n",
      "3376             Žírovce      Herľany       KOŠICE-OKOLIE  Košice - okolie   \n",
      "\n",
      "      Bee keepers  \n",
      "0              14  \n",
      "1               1  \n",
      "2               4  \n",
      "3               1  \n",
      "4               1  \n",
      "...           ...  \n",
      "3372            6  \n",
      "3373           13  \n",
      "3374            8  \n",
      "3375            5  \n",
      "3376            5  \n",
      "\n",
      "[3377 rows x 5 columns]\n"
     ]
    }
   ],
   "source": [
    "merged_df = pd.merge(df, df1, on=['Cadastral territory', 'Municipality', 'Region', 'County'])\n",
    "count_bee_keepers_df = merged_df.groupby(['Cadastral territory', 'Municipality', 'Region', 'County']).size().reset_index(name='Bee keepers')\n",
    "\n",
    "# Fill NaN values in the 'Sum' column with 0\n",
    "count_bee_keepers_df['Bee keepers'].fillna(0, inplace=True)\n",
    "\n",
    "print(\"\\nCount of occurrences in df:\")\n",
    "print(count_bee_keepers_df)"
   ]
  },
  {
   "cell_type": "markdown",
   "id": "1b8227d1",
   "metadata": {},
   "source": [
    "<font color='orange'>FINAL DATA FRAME WITH NUMBER OF BEE KEEPERS PER CADASTRAL TERRITORY</font>"
   ]
  },
  {
   "cell_type": "code",
   "execution_count": 9,
   "id": "9b11b9f0",
   "metadata": {},
   "outputs": [
    {
     "data": {
      "text/html": [
       "<div>\n",
       "<style scoped>\n",
       "    .dataframe tbody tr th:only-of-type {\n",
       "        vertical-align: middle;\n",
       "    }\n",
       "\n",
       "    .dataframe tbody tr th {\n",
       "        vertical-align: top;\n",
       "    }\n",
       "\n",
       "    .dataframe thead th {\n",
       "        text-align: right;\n",
       "    }\n",
       "</style>\n",
       "<table border=\"1\" class=\"dataframe\">\n",
       "  <thead>\n",
       "    <tr style=\"text-align: right;\">\n",
       "      <th></th>\n",
       "      <th>Cadastral territory</th>\n",
       "      <th>Municipality</th>\n",
       "      <th>Region</th>\n",
       "      <th>County</th>\n",
       "      <th>Bee keepers</th>\n",
       "    </tr>\n",
       "  </thead>\n",
       "  <tbody>\n",
       "    <tr>\n",
       "      <th>0</th>\n",
       "      <td>Abrahám</td>\n",
       "      <td>Abrahám</td>\n",
       "      <td>GALANTA</td>\n",
       "      <td>Galanta</td>\n",
       "      <td>14</td>\n",
       "    </tr>\n",
       "    <tr>\n",
       "      <th>1</th>\n",
       "      <td>Abrahámovce</td>\n",
       "      <td>Abrahámovce</td>\n",
       "      <td>BARDEJOV</td>\n",
       "      <td>Bardejov</td>\n",
       "      <td>1</td>\n",
       "    </tr>\n",
       "    <tr>\n",
       "      <th>2</th>\n",
       "      <td>Abrahámovce</td>\n",
       "      <td>Abrahámovce</td>\n",
       "      <td>KEŽMAROK</td>\n",
       "      <td>Poprad</td>\n",
       "      <td>4</td>\n",
       "    </tr>\n",
       "    <tr>\n",
       "      <th>3</th>\n",
       "      <td>Abramová</td>\n",
       "      <td>Abramová</td>\n",
       "      <td>TURČIANSKE TEPLICE</td>\n",
       "      <td>Martin</td>\n",
       "      <td>1</td>\n",
       "    </tr>\n",
       "    <tr>\n",
       "      <th>4</th>\n",
       "      <td>Abranovce</td>\n",
       "      <td>Abranovce</td>\n",
       "      <td>PREŠOV</td>\n",
       "      <td>Prešov</td>\n",
       "      <td>1</td>\n",
       "    </tr>\n",
       "  </tbody>\n",
       "</table>\n",
       "</div>"
      ],
      "text/plain": [
       "  Cadastral territory Municipality              Region    County  Bee keepers\n",
       "0             Abrahám      Abrahám             GALANTA   Galanta           14\n",
       "1         Abrahámovce  Abrahámovce            BARDEJOV  Bardejov            1\n",
       "2         Abrahámovce  Abrahámovce            KEŽMAROK    Poprad            4\n",
       "3            Abramová     Abramová  TURČIANSKE TEPLICE    Martin            1\n",
       "4           Abranovce    Abranovce              PREŠOV    Prešov            1"
      ]
     },
     "execution_count": 9,
     "metadata": {},
     "output_type": "execute_result"
    }
   ],
   "source": [
    "count_bee_keepers_df.head()"
   ]
  },
  {
   "cell_type": "markdown",
   "id": "55bbb7a5",
   "metadata": {},
   "source": [
    "<font color='orange'>Calculate number of bee hives per cadastral territory: (count amount for each instance)</font>"
   ]
  },
  {
   "cell_type": "code",
   "execution_count": 10,
   "id": "e24d55cf",
   "metadata": {},
   "outputs": [
    {
     "name": "stdout",
     "output_type": "stream",
     "text": [
      "      Cadastral territory         Municipality   Region   County  Amount  \\\n",
      "0     Vinohrady nad Váhom  Vinohrady nad Váhom  GALANTA  Galanta      30   \n",
      "1                Vozokany             Vozokany  GALANTA  Galanta      10   \n",
      "2          Zemianske Sady       Zemianske Sady  GALANTA  Galanta      10   \n",
      "3                 Šoporňa              Šoporňa  GALANTA  Galanta       4   \n",
      "4              Tomášikovo           Tomášikovo  GALANTA  Galanta     100   \n",
      "...                   ...                  ...      ...      ...     ...   \n",
      "3372               Bzovík               Bzovík  KRUPINA   Zvolen       1   \n",
      "3373      Bzovská Lehôtka      Bzovská Lehôtka   ZVOLEN   Zvolen      18   \n",
      "3374               Cerovo               Cerovo  KRUPINA   Zvolen       9   \n",
      "3375    Čabradský Vrbovok    Čabradský Vrbovok  KRUPINA   Zvolen       4   \n",
      "3376              Čekovce              Čekovce  KRUPINA   Zvolen      11   \n",
      "\n",
      "      Bee hives  \n",
      "0           295  \n",
      "1            85  \n",
      "2            61  \n",
      "3           205  \n",
      "4           124  \n",
      "...         ...  \n",
      "3372        143  \n",
      "3373         28  \n",
      "3374         10  \n",
      "3375         39  \n",
      "3376        273  \n",
      "\n",
      "[3377 rows x 6 columns]\n"
     ]
    }
   ],
   "source": [
    "sum_df = df.groupby(['Cadastral territory', 'Municipality', 'Region', 'County'])['Amount'].sum().reset_index(name='Bee hives')\n",
    "\n",
    "# Merge the sum information back into the DataFrame with unique instances\n",
    "count_bee_hives_df = pd.merge(df1, sum_df, on=['Cadastral territory', 'Municipality', 'Region', 'County'], how='left')\n",
    "\n",
    "# Fill NaN values in the 'Bee hives' column with 0\n",
    "count_bee_hives_df['Bee hives'].fillna(0, inplace=True)\n",
    "\n",
    "print(count_bee_hives_df)"
   ]
  },
  {
   "cell_type": "markdown",
   "id": "622a03db",
   "metadata": {},
   "source": [
    "<font color='orange'>FINAL DATA FRAME WITH NUMBER OF BEE HIVES PER CADASTRAL TERRITORY:</font>"
   ]
  },
  {
   "cell_type": "code",
   "execution_count": 11,
   "id": "1fdf1ab5",
   "metadata": {},
   "outputs": [
    {
     "data": {
      "text/html": [
       "<div>\n",
       "<style scoped>\n",
       "    .dataframe tbody tr th:only-of-type {\n",
       "        vertical-align: middle;\n",
       "    }\n",
       "\n",
       "    .dataframe tbody tr th {\n",
       "        vertical-align: top;\n",
       "    }\n",
       "\n",
       "    .dataframe thead th {\n",
       "        text-align: right;\n",
       "    }\n",
       "</style>\n",
       "<table border=\"1\" class=\"dataframe\">\n",
       "  <thead>\n",
       "    <tr style=\"text-align: right;\">\n",
       "      <th></th>\n",
       "      <th>Cadastral territory</th>\n",
       "      <th>Municipality</th>\n",
       "      <th>Region</th>\n",
       "      <th>County</th>\n",
       "      <th>Bee hives</th>\n",
       "    </tr>\n",
       "  </thead>\n",
       "  <tbody>\n",
       "    <tr>\n",
       "      <th>0</th>\n",
       "      <td>Vinohrady nad Váhom</td>\n",
       "      <td>Vinohrady nad Váhom</td>\n",
       "      <td>GALANTA</td>\n",
       "      <td>Galanta</td>\n",
       "      <td>295</td>\n",
       "    </tr>\n",
       "    <tr>\n",
       "      <th>1</th>\n",
       "      <td>Vozokany</td>\n",
       "      <td>Vozokany</td>\n",
       "      <td>GALANTA</td>\n",
       "      <td>Galanta</td>\n",
       "      <td>85</td>\n",
       "    </tr>\n",
       "    <tr>\n",
       "      <th>2</th>\n",
       "      <td>Zemianske Sady</td>\n",
       "      <td>Zemianske Sady</td>\n",
       "      <td>GALANTA</td>\n",
       "      <td>Galanta</td>\n",
       "      <td>61</td>\n",
       "    </tr>\n",
       "    <tr>\n",
       "      <th>3</th>\n",
       "      <td>Šoporňa</td>\n",
       "      <td>Šoporňa</td>\n",
       "      <td>GALANTA</td>\n",
       "      <td>Galanta</td>\n",
       "      <td>205</td>\n",
       "    </tr>\n",
       "    <tr>\n",
       "      <th>4</th>\n",
       "      <td>Tomášikovo</td>\n",
       "      <td>Tomášikovo</td>\n",
       "      <td>GALANTA</td>\n",
       "      <td>Galanta</td>\n",
       "      <td>124</td>\n",
       "    </tr>\n",
       "    <tr>\n",
       "      <th>...</th>\n",
       "      <td>...</td>\n",
       "      <td>...</td>\n",
       "      <td>...</td>\n",
       "      <td>...</td>\n",
       "      <td>...</td>\n",
       "    </tr>\n",
       "    <tr>\n",
       "      <th>3372</th>\n",
       "      <td>Bzovík</td>\n",
       "      <td>Bzovík</td>\n",
       "      <td>KRUPINA</td>\n",
       "      <td>Zvolen</td>\n",
       "      <td>143</td>\n",
       "    </tr>\n",
       "    <tr>\n",
       "      <th>3373</th>\n",
       "      <td>Bzovská Lehôtka</td>\n",
       "      <td>Bzovská Lehôtka</td>\n",
       "      <td>ZVOLEN</td>\n",
       "      <td>Zvolen</td>\n",
       "      <td>28</td>\n",
       "    </tr>\n",
       "    <tr>\n",
       "      <th>3374</th>\n",
       "      <td>Cerovo</td>\n",
       "      <td>Cerovo</td>\n",
       "      <td>KRUPINA</td>\n",
       "      <td>Zvolen</td>\n",
       "      <td>10</td>\n",
       "    </tr>\n",
       "    <tr>\n",
       "      <th>3375</th>\n",
       "      <td>Čabradský Vrbovok</td>\n",
       "      <td>Čabradský Vrbovok</td>\n",
       "      <td>KRUPINA</td>\n",
       "      <td>Zvolen</td>\n",
       "      <td>39</td>\n",
       "    </tr>\n",
       "    <tr>\n",
       "      <th>3376</th>\n",
       "      <td>Čekovce</td>\n",
       "      <td>Čekovce</td>\n",
       "      <td>KRUPINA</td>\n",
       "      <td>Zvolen</td>\n",
       "      <td>273</td>\n",
       "    </tr>\n",
       "  </tbody>\n",
       "</table>\n",
       "<p>3377 rows × 5 columns</p>\n",
       "</div>"
      ],
      "text/plain": [
       "      Cadastral territory         Municipality   Region   County  Bee hives\n",
       "0     Vinohrady nad Váhom  Vinohrady nad Váhom  GALANTA  Galanta        295\n",
       "1                Vozokany             Vozokany  GALANTA  Galanta         85\n",
       "2          Zemianske Sady       Zemianske Sady  GALANTA  Galanta         61\n",
       "3                 Šoporňa              Šoporňa  GALANTA  Galanta        205\n",
       "4              Tomášikovo           Tomášikovo  GALANTA  Galanta        124\n",
       "...                   ...                  ...      ...      ...        ...\n",
       "3372               Bzovík               Bzovík  KRUPINA   Zvolen        143\n",
       "3373      Bzovská Lehôtka      Bzovská Lehôtka   ZVOLEN   Zvolen         28\n",
       "3374               Cerovo               Cerovo  KRUPINA   Zvolen         10\n",
       "3375    Čabradský Vrbovok    Čabradský Vrbovok  KRUPINA   Zvolen         39\n",
       "3376              Čekovce              Čekovce  KRUPINA   Zvolen        273\n",
       "\n",
       "[3377 rows x 5 columns]"
      ]
     },
     "execution_count": 11,
     "metadata": {},
     "output_type": "execute_result"
    }
   ],
   "source": [
    "count_bee_hives_df.drop(\"Amount\",axis=1)"
   ]
  },
  {
   "cell_type": "markdown",
   "id": "66d947b9",
   "metadata": {},
   "source": [
    "<font color='orange'>RESULT DATAFRAME:</font>"
   ]
  },
  {
   "cell_type": "code",
   "execution_count": 27,
   "id": "74a1ac1a",
   "metadata": {},
   "outputs": [
    {
     "name": "stdout",
     "output_type": "stream",
     "text": [
      "     Cadastral territory Municipality              Region           County  \\\n",
      "0                Abrahám      Abrahám             GALANTA          Galanta   \n",
      "1            Abrahámovce  Abrahámovce            BARDEJOV         Bardejov   \n",
      "2            Abrahámovce  Abrahámovce            KEŽMAROK           Poprad   \n",
      "3               Abramová     Abramová  TURČIANSKE TEPLICE           Martin   \n",
      "4              Abranovce    Abranovce              PREŠOV           Prešov   \n",
      "...                  ...          ...                 ...              ...   \n",
      "3372             Žlkovce      Žlkovce            HLOHOVEC           Trnava   \n",
      "3373              Župkov       Župkov           ŽARNOVICA  Žiar nad Hronom   \n",
      "3374             Župčany      Župčany              PREŠOV           Prešov   \n",
      "3375                 Žíp          Žíp     RIMAVSKÁ SOBOTA  Rimavská Sobota   \n",
      "3376             Žírovce      Herľany       KOŠICE-OKOLIE  Košice - okolie   \n",
      "\n",
      "      Bee keepers  Bee hives  \n",
      "0              14        264  \n",
      "1               1          2  \n",
      "2               4         54  \n",
      "3               1          0  \n",
      "4               1         10  \n",
      "...           ...        ...  \n",
      "3372            6         48  \n",
      "3373           13        134  \n",
      "3374            8         73  \n",
      "3375            5        109  \n",
      "3376            5         66  \n",
      "\n",
      "[3377 rows x 6 columns]\n"
     ]
    }
   ],
   "source": [
    "#Combine bee keepers and bee hives dfs\n",
    "\n",
    "result_df = pd.merge(count_bee_keepers_df, count_bee_hives_df, on=['Cadastral territory', 'Municipality', 'Region', 'County'])\n",
    "result_df = result_df.drop(\"Amount\", axis=1)\n",
    "\n",
    "print(result_df)\n",
    "\n",
    "result_df.to_excel('per_cadastral_territory_excel.xlsx', index=False)\n",
    "result_df.to_csv('per_cadastral_territory_csv.csv', index=False)"
   ]
  },
  {
   "cell_type": "markdown",
   "id": "96128f65",
   "metadata": {},
   "source": [
    "<font color='orange'>Create data frame with unique regions:</font>"
   ]
  },
  {
   "cell_type": "code",
   "execution_count": 19,
   "id": "4d804e1c",
   "metadata": {},
   "outputs": [
    {
     "name": "stdout",
     "output_type": "stream",
     "text": [
      "          Cadastral territory            Municipality              Region  \\\n",
      "0         Vinohrady nad Váhom     Vinohrady nad Váhom             GALANTA   \n",
      "285         Kráľová nad Váhom       Kráľová nad Váhom                ŠAĽA   \n",
      "402                  Zákopčie                Zákopčie               ČADCA   \n",
      "420                     Závod                   Závod             MALACKY   \n",
      "442            Lopušné Pažite          Lopušné Pažite  KYSUCKÉ NOVÉ MESTO   \n",
      "...                       ...                     ...                 ...   \n",
      "22206                   Zbora                 Dohňany              PÚCHOV   \n",
      "22247           Červený Kameň           Červený Kameň               ILAVA   \n",
      "23744          Vyšné Ružbachy          Vyšné Ružbachy       STARÁ ĽUBOVŇA   \n",
      "25392       Zvolenská Slatina       Zvolenská Slatina              ZVOLEN   \n",
      "25416  Vígľašská Huta-Kalinka  Vígľašská Huta-Kalinka               DETVA   \n",
      "\n",
      "              County  Amount  \n",
      "0            Galanta      30  \n",
      "285             Šaľa       7  \n",
      "402            Čadca       0  \n",
      "420            Čadca       1  \n",
      "442            Čadca       0  \n",
      "...              ...     ...  \n",
      "22206         Púchov       0  \n",
      "22247         Púchov      42  \n",
      "23744  Stará Ľubovňa       0  \n",
      "25392         Zvolen      10  \n",
      "25416         Zvolen       3  \n",
      "\n",
      "[79 rows x 5 columns]\n"
     ]
    }
   ],
   "source": [
    "unique_regions_df = df.drop_duplicates(subset=[\"Region\"])\n",
    "unique_regions_df.shape\n",
    "\n",
    "print(unique_regions_df)"
   ]
  },
  {
   "cell_type": "code",
   "execution_count": 21,
   "id": "6ad3710a",
   "metadata": {},
   "outputs": [
    {
     "name": "stdout",
     "output_type": "stream",
     "text": [
      "                   Region\n",
      "0                 GALANTA\n",
      "285                  ŠAĽA\n",
      "402                 ČADCA\n",
      "420               MALACKY\n",
      "442    KYSUCKÉ NOVÉ MESTO\n",
      "...                   ...\n",
      "22206              PÚCHOV\n",
      "22247               ILAVA\n",
      "23744       STARÁ ĽUBOVŇA\n",
      "25392              ZVOLEN\n",
      "25416               DETVA\n",
      "\n",
      "[79 rows x 1 columns]\n"
     ]
    }
   ],
   "source": [
    "regions_df = pd.DataFrame()\n",
    "regions_df[\"Region\"] = unique_regions_df[\"Region\"]\n",
    "\n",
    "print(regions_df)"
   ]
  },
  {
   "cell_type": "markdown",
   "id": "2d11bb53",
   "metadata": {},
   "source": [
    "<font color='orange'>Count amount of bee keepers per region:</font>"
   ]
  },
  {
   "cell_type": "code",
   "execution_count": null,
   "id": "06578b5b",
   "metadata": {},
   "outputs": [],
   "source": []
  }
 ],
 "metadata": {
  "kernelspec": {
   "display_name": "Python 3 (ipykernel)",
   "language": "python",
   "name": "python3"
  },
  "language_info": {
   "codemirror_mode": {
    "name": "ipython",
    "version": 3
   },
   "file_extension": ".py",
   "mimetype": "text/x-python",
   "name": "python",
   "nbconvert_exporter": "python",
   "pygments_lexer": "ipython3",
   "version": "3.11.3"
  }
 },
 "nbformat": 4,
 "nbformat_minor": 5
}
