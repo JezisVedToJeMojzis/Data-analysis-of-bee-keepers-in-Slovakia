{
 "cells": [
  {
   "cell_type": "markdown",
   "id": "8c54f89b",
   "metadata": {},
   "source": [
    "Data analysis of all the bee keepers around Slovakia"
   ]
  },
  {
   "cell_type": "code",
   "execution_count": 1,
   "id": "e8d8fb63",
   "metadata": {},
   "outputs": [],
   "source": [
    "#import libraries\n",
    "import pandas as pd\n",
    "import numpy as np\n",
    "import matplotlib.pyplot as plt\n",
    "import seaborn as sns"
   ]
  },
  {
   "cell_type": "code",
   "execution_count": 2,
   "id": "2b653288",
   "metadata": {},
   "outputs": [],
   "source": [
    "#get dataframe\n",
    "df = pd.read_csv(\"Bees2023.csv\", encoding='utf-8')"
   ]
  },
  {
   "cell_type": "markdown",
   "id": "ac25087e",
   "metadata": {},
   "source": [
    "Parameters of dataset:"
   ]
  },
  {
   "cell_type": "code",
   "execution_count": 3,
   "id": "a540cc33",
   "metadata": {},
   "outputs": [
    {
     "name": "stdout",
     "output_type": "stream",
     "text": [
      "Number of rows: 26248\n",
      "Number of columns: 5\n"
     ]
    }
   ],
   "source": [
    "num_rows, num_columns = df.shape\n",
    "\n",
    "print(\"Number of rows:\", num_rows)\n",
    "print(\"Number of columns:\", num_columns)"
   ]
  },
  {
   "cell_type": "code",
   "execution_count": 4,
   "id": "0c705234",
   "metadata": {},
   "outputs": [
    {
     "name": "stdout",
     "output_type": "stream",
     "text": [
      "Column Headers: Index(['Cadastral territory', 'Municipality', 'Region', 'County', 'Amount'], dtype='object')\n"
     ]
    },
    {
     "data": {
      "text/html": [
       "<div>\n",
       "<style scoped>\n",
       "    .dataframe tbody tr th:only-of-type {\n",
       "        vertical-align: middle;\n",
       "    }\n",
       "\n",
       "    .dataframe tbody tr th {\n",
       "        vertical-align: top;\n",
       "    }\n",
       "\n",
       "    .dataframe thead th {\n",
       "        text-align: right;\n",
       "    }\n",
       "</style>\n",
       "<table border=\"1\" class=\"dataframe\">\n",
       "  <thead>\n",
       "    <tr style=\"text-align: right;\">\n",
       "      <th></th>\n",
       "      <th>Cadastral territory</th>\n",
       "      <th>Municipality</th>\n",
       "      <th>Region</th>\n",
       "      <th>County</th>\n",
       "      <th>Amount</th>\n",
       "    </tr>\n",
       "  </thead>\n",
       "  <tbody>\n",
       "    <tr>\n",
       "      <th>0</th>\n",
       "      <td>Vinohrady nad Váhom</td>\n",
       "      <td>Vinohrady nad Váhom</td>\n",
       "      <td>GALANTA</td>\n",
       "      <td>Galanta</td>\n",
       "      <td>30</td>\n",
       "    </tr>\n",
       "    <tr>\n",
       "      <th>1</th>\n",
       "      <td>Vinohrady nad Váhom</td>\n",
       "      <td>Vinohrady nad Váhom</td>\n",
       "      <td>GALANTA</td>\n",
       "      <td>Galanta</td>\n",
       "      <td>16</td>\n",
       "    </tr>\n",
       "    <tr>\n",
       "      <th>2</th>\n",
       "      <td>Vinohrady nad Váhom</td>\n",
       "      <td>Vinohrady nad Váhom</td>\n",
       "      <td>GALANTA</td>\n",
       "      <td>Galanta</td>\n",
       "      <td>5</td>\n",
       "    </tr>\n",
       "    <tr>\n",
       "      <th>3</th>\n",
       "      <td>Vinohrady nad Váhom</td>\n",
       "      <td>Vinohrady nad Váhom</td>\n",
       "      <td>GALANTA</td>\n",
       "      <td>Galanta</td>\n",
       "      <td>0</td>\n",
       "    </tr>\n",
       "    <tr>\n",
       "      <th>4</th>\n",
       "      <td>Vinohrady nad Váhom</td>\n",
       "      <td>Vinohrady nad Váhom</td>\n",
       "      <td>GALANTA</td>\n",
       "      <td>Galanta</td>\n",
       "      <td>14</td>\n",
       "    </tr>\n",
       "  </tbody>\n",
       "</table>\n",
       "</div>"
      ],
      "text/plain": [
       "   Cadastral territory         Municipality   Region   County  Amount\n",
       "0  Vinohrady nad Váhom  Vinohrady nad Váhom  GALANTA  Galanta      30\n",
       "1  Vinohrady nad Váhom  Vinohrady nad Váhom  GALANTA  Galanta      16\n",
       "2  Vinohrady nad Váhom  Vinohrady nad Váhom  GALANTA  Galanta       5\n",
       "3  Vinohrady nad Váhom  Vinohrady nad Váhom  GALANTA  Galanta       0\n",
       "4  Vinohrady nad Váhom  Vinohrady nad Váhom  GALANTA  Galanta      14"
      ]
     },
     "execution_count": 4,
     "metadata": {},
     "output_type": "execute_result"
    }
   ],
   "source": [
    "column_headers = df.columns\n",
    "\n",
    "print(\"Column Headers:\", column_headers)\n",
    "df.head()"
   ]
  },
  {
   "cell_type": "markdown",
   "id": "ca3f0461",
   "metadata": {},
   "source": [
    "Configuration of dataset:"
   ]
  },
  {
   "cell_type": "code",
   "execution_count": 5,
   "id": "859d0396",
   "metadata": {},
   "outputs": [
    {
     "name": "stdout",
     "output_type": "stream",
     "text": [
      "Column Headers: Index(['Cadastral territory', 'Municipality', 'Region', 'County', 'Amount'], dtype='object')\n"
     ]
    }
   ],
   "source": [
    "column_headers = df.columns\n",
    "\n",
    "print(\"Column Headers:\", column_headers)"
   ]
  },
  {
   "cell_type": "markdown",
   "id": "5bf6cc41",
   "metadata": {},
   "source": [
    "Create new data frame (df1) with unique values:"
   ]
  },
  {
   "cell_type": "code",
   "execution_count": 6,
   "id": "0f64a6ab",
   "metadata": {},
   "outputs": [
    {
     "name": "stdout",
     "output_type": "stream",
     "text": [
      "       Cadastral territory         Municipality   Region   County  Amount\n",
      "0      Vinohrady nad Váhom  Vinohrady nad Váhom  GALANTA  Galanta      30\n",
      "21                Vozokany             Vozokany  GALANTA  Galanta      10\n",
      "24          Zemianske Sady       Zemianske Sady  GALANTA  Galanta      10\n",
      "29                 Šoporňa              Šoporňa  GALANTA  Galanta       4\n",
      "35              Tomášikovo           Tomášikovo  GALANTA  Galanta     100\n",
      "...                    ...                  ...      ...      ...     ...\n",
      "26189               Bzovík               Bzovík  KRUPINA   Zvolen       1\n",
      "26202      Bzovská Lehôtka      Bzovská Lehôtka   ZVOLEN   Zvolen      18\n",
      "26204               Cerovo               Cerovo  KRUPINA   Zvolen       9\n",
      "26206    Čabradský Vrbovok    Čabradský Vrbovok  KRUPINA   Zvolen       4\n",
      "26209              Čekovce              Čekovce  KRUPINA   Zvolen      11\n",
      "\n",
      "[3377 rows x 5 columns]\n"
     ]
    }
   ],
   "source": [
    "df1 = df.drop_duplicates(subset=[\"Cadastral territory\", \"Municipality\", \"Region\", \"County\"])\n",
    "df1.shape\n",
    "print(df1)"
   ]
  },
  {
   "cell_type": "code",
   "execution_count": 7,
   "id": "a929c7b8",
   "metadata": {},
   "outputs": [
    {
     "data": {
      "text/html": [
       "<div>\n",
       "<style scoped>\n",
       "    .dataframe tbody tr th:only-of-type {\n",
       "        vertical-align: middle;\n",
       "    }\n",
       "\n",
       "    .dataframe tbody tr th {\n",
       "        vertical-align: top;\n",
       "    }\n",
       "\n",
       "    .dataframe thead th {\n",
       "        text-align: right;\n",
       "    }\n",
       "</style>\n",
       "<table border=\"1\" class=\"dataframe\">\n",
       "  <thead>\n",
       "    <tr style=\"text-align: right;\">\n",
       "      <th></th>\n",
       "      <th>Cadastral territory</th>\n",
       "      <th>Municipality</th>\n",
       "      <th>Region</th>\n",
       "      <th>County</th>\n",
       "    </tr>\n",
       "  </thead>\n",
       "  <tbody>\n",
       "    <tr>\n",
       "      <th>0</th>\n",
       "      <td>Vinohrady nad Váhom</td>\n",
       "      <td>Vinohrady nad Váhom</td>\n",
       "      <td>GALANTA</td>\n",
       "      <td>Galanta</td>\n",
       "    </tr>\n",
       "    <tr>\n",
       "      <th>21</th>\n",
       "      <td>Vozokany</td>\n",
       "      <td>Vozokany</td>\n",
       "      <td>GALANTA</td>\n",
       "      <td>Galanta</td>\n",
       "    </tr>\n",
       "    <tr>\n",
       "      <th>24</th>\n",
       "      <td>Zemianske Sady</td>\n",
       "      <td>Zemianske Sady</td>\n",
       "      <td>GALANTA</td>\n",
       "      <td>Galanta</td>\n",
       "    </tr>\n",
       "    <tr>\n",
       "      <th>29</th>\n",
       "      <td>Šoporňa</td>\n",
       "      <td>Šoporňa</td>\n",
       "      <td>GALANTA</td>\n",
       "      <td>Galanta</td>\n",
       "    </tr>\n",
       "    <tr>\n",
       "      <th>35</th>\n",
       "      <td>Tomášikovo</td>\n",
       "      <td>Tomášikovo</td>\n",
       "      <td>GALANTA</td>\n",
       "      <td>Galanta</td>\n",
       "    </tr>\n",
       "    <tr>\n",
       "      <th>...</th>\n",
       "      <td>...</td>\n",
       "      <td>...</td>\n",
       "      <td>...</td>\n",
       "      <td>...</td>\n",
       "    </tr>\n",
       "    <tr>\n",
       "      <th>26189</th>\n",
       "      <td>Bzovík</td>\n",
       "      <td>Bzovík</td>\n",
       "      <td>KRUPINA</td>\n",
       "      <td>Zvolen</td>\n",
       "    </tr>\n",
       "    <tr>\n",
       "      <th>26202</th>\n",
       "      <td>Bzovská Lehôtka</td>\n",
       "      <td>Bzovská Lehôtka</td>\n",
       "      <td>ZVOLEN</td>\n",
       "      <td>Zvolen</td>\n",
       "    </tr>\n",
       "    <tr>\n",
       "      <th>26204</th>\n",
       "      <td>Cerovo</td>\n",
       "      <td>Cerovo</td>\n",
       "      <td>KRUPINA</td>\n",
       "      <td>Zvolen</td>\n",
       "    </tr>\n",
       "    <tr>\n",
       "      <th>26206</th>\n",
       "      <td>Čabradský Vrbovok</td>\n",
       "      <td>Čabradský Vrbovok</td>\n",
       "      <td>KRUPINA</td>\n",
       "      <td>Zvolen</td>\n",
       "    </tr>\n",
       "    <tr>\n",
       "      <th>26209</th>\n",
       "      <td>Čekovce</td>\n",
       "      <td>Čekovce</td>\n",
       "      <td>KRUPINA</td>\n",
       "      <td>Zvolen</td>\n",
       "    </tr>\n",
       "  </tbody>\n",
       "</table>\n",
       "<p>3377 rows × 4 columns</p>\n",
       "</div>"
      ],
      "text/plain": [
       "       Cadastral territory         Municipality   Region   County\n",
       "0      Vinohrady nad Váhom  Vinohrady nad Váhom  GALANTA  Galanta\n",
       "21                Vozokany             Vozokany  GALANTA  Galanta\n",
       "24          Zemianske Sady       Zemianske Sady  GALANTA  Galanta\n",
       "29                 Šoporňa              Šoporňa  GALANTA  Galanta\n",
       "35              Tomášikovo           Tomášikovo  GALANTA  Galanta\n",
       "...                    ...                  ...      ...      ...\n",
       "26189               Bzovík               Bzovík  KRUPINA   Zvolen\n",
       "26202      Bzovská Lehôtka      Bzovská Lehôtka   ZVOLEN   Zvolen\n",
       "26204               Cerovo               Cerovo  KRUPINA   Zvolen\n",
       "26206    Čabradský Vrbovok    Čabradský Vrbovok  KRUPINA   Zvolen\n",
       "26209              Čekovce              Čekovce  KRUPINA   Zvolen\n",
       "\n",
       "[3377 rows x 4 columns]"
      ]
     },
     "execution_count": 7,
     "metadata": {},
     "output_type": "execute_result"
    }
   ],
   "source": [
    "#Dropping amounts\n",
    "df1.drop('Amount', axis=1)"
   ]
  },
  {
   "cell_type": "markdown",
   "id": "59b90d02",
   "metadata": {},
   "source": [
    "Calculate number of bee hives per cadastral territory: (Here we count the number of occurences of each row from df1 in df (original data frame))"
   ]
  },
  {
   "cell_type": "code",
   "execution_count": 8,
   "id": "2f511f93",
   "metadata": {},
   "outputs": [
    {
     "name": "stdout",
     "output_type": "stream",
     "text": [
      "\n",
      "Count of occurrences in df:\n",
      "     Cadastral territory Municipality              Region           County  \\\n",
      "0                Abrahám      Abrahám             GALANTA          Galanta   \n",
      "1            Abrahámovce  Abrahámovce            BARDEJOV         Bardejov   \n",
      "2            Abrahámovce  Abrahámovce            KEŽMAROK           Poprad   \n",
      "3               Abramová     Abramová  TURČIANSKE TEPLICE           Martin   \n",
      "4              Abranovce    Abranovce              PREŠOV           Prešov   \n",
      "...                  ...          ...                 ...              ...   \n",
      "3372             Žlkovce      Žlkovce            HLOHOVEC           Trnava   \n",
      "3373              Župkov       Župkov           ŽARNOVICA  Žiar nad Hronom   \n",
      "3374             Župčany      Župčany              PREŠOV           Prešov   \n",
      "3375                 Žíp          Žíp     RIMAVSKÁ SOBOTA  Rimavská Sobota   \n",
      "3376             Žírovce      Herľany       KOŠICE-OKOLIE  Košice - okolie   \n",
      "\n",
      "      Bee keepers  \n",
      "0              14  \n",
      "1               1  \n",
      "2               4  \n",
      "3               1  \n",
      "4               1  \n",
      "...           ...  \n",
      "3372            6  \n",
      "3373           13  \n",
      "3374            8  \n",
      "3375            5  \n",
      "3376            5  \n",
      "\n",
      "[3377 rows x 5 columns]\n"
     ]
    }
   ],
   "source": [
    "merged_df = pd.merge(df, df1, on=['Cadastral territory', 'Municipality', 'Region', 'County'])\n",
    "count_bee_keepers_df = merged_df.groupby(['Cadastral territory', 'Municipality', 'Region', 'County']).size().reset_index(name='Bee keepers')\n",
    "\n",
    "# Fill NaN values in the 'Sum' column with 0\n",
    "count_bee_keepers_df['Bee keepers'].fillna(0, inplace=True)\n",
    "\n",
    "print(\"\\nCount of occurrences in df:\")\n",
    "print(count_bee_keepers_df)"
   ]
  },
  {
   "cell_type": "markdown",
   "id": "4672cab7",
   "metadata": {},
   "source": [
    "FINAL DATA FRAME WITH NUMBER OF BEE KEEPERS PER CADASTRAL TERRITORY"
   ]
  },
  {
   "cell_type": "code",
   "execution_count": 12,
   "id": "c861f358",
   "metadata": {},
   "outputs": [
    {
     "data": {
      "text/html": [
       "<div>\n",
       "<style scoped>\n",
       "    .dataframe tbody tr th:only-of-type {\n",
       "        vertical-align: middle;\n",
       "    }\n",
       "\n",
       "    .dataframe tbody tr th {\n",
       "        vertical-align: top;\n",
       "    }\n",
       "\n",
       "    .dataframe thead th {\n",
       "        text-align: right;\n",
       "    }\n",
       "</style>\n",
       "<table border=\"1\" class=\"dataframe\">\n",
       "  <thead>\n",
       "    <tr style=\"text-align: right;\">\n",
       "      <th></th>\n",
       "      <th>Cadastral territory</th>\n",
       "      <th>Municipality</th>\n",
       "      <th>Region</th>\n",
       "      <th>Bee keepers</th>\n",
       "    </tr>\n",
       "  </thead>\n",
       "  <tbody>\n",
       "    <tr>\n",
       "      <th>0</th>\n",
       "      <td>Abrahám</td>\n",
       "      <td>Abrahám</td>\n",
       "      <td>GALANTA</td>\n",
       "      <td>14</td>\n",
       "    </tr>\n",
       "    <tr>\n",
       "      <th>1</th>\n",
       "      <td>Abrahámovce</td>\n",
       "      <td>Abrahámovce</td>\n",
       "      <td>BARDEJOV</td>\n",
       "      <td>1</td>\n",
       "    </tr>\n",
       "    <tr>\n",
       "      <th>2</th>\n",
       "      <td>Abrahámovce</td>\n",
       "      <td>Abrahámovce</td>\n",
       "      <td>KEŽMAROK</td>\n",
       "      <td>4</td>\n",
       "    </tr>\n",
       "    <tr>\n",
       "      <th>3</th>\n",
       "      <td>Abramová</td>\n",
       "      <td>Abramová</td>\n",
       "      <td>TURČIANSKE TEPLICE</td>\n",
       "      <td>1</td>\n",
       "    </tr>\n",
       "    <tr>\n",
       "      <th>4</th>\n",
       "      <td>Abranovce</td>\n",
       "      <td>Abranovce</td>\n",
       "      <td>PREŠOV</td>\n",
       "      <td>1</td>\n",
       "    </tr>\n",
       "    <tr>\n",
       "      <th>...</th>\n",
       "      <td>...</td>\n",
       "      <td>...</td>\n",
       "      <td>...</td>\n",
       "      <td>...</td>\n",
       "    </tr>\n",
       "    <tr>\n",
       "      <th>3372</th>\n",
       "      <td>Žlkovce</td>\n",
       "      <td>Žlkovce</td>\n",
       "      <td>HLOHOVEC</td>\n",
       "      <td>6</td>\n",
       "    </tr>\n",
       "    <tr>\n",
       "      <th>3373</th>\n",
       "      <td>Župkov</td>\n",
       "      <td>Župkov</td>\n",
       "      <td>ŽARNOVICA</td>\n",
       "      <td>13</td>\n",
       "    </tr>\n",
       "    <tr>\n",
       "      <th>3374</th>\n",
       "      <td>Župčany</td>\n",
       "      <td>Župčany</td>\n",
       "      <td>PREŠOV</td>\n",
       "      <td>8</td>\n",
       "    </tr>\n",
       "    <tr>\n",
       "      <th>3375</th>\n",
       "      <td>Žíp</td>\n",
       "      <td>Žíp</td>\n",
       "      <td>RIMAVSKÁ SOBOTA</td>\n",
       "      <td>5</td>\n",
       "    </tr>\n",
       "    <tr>\n",
       "      <th>3376</th>\n",
       "      <td>Žírovce</td>\n",
       "      <td>Herľany</td>\n",
       "      <td>KOŠICE-OKOLIE</td>\n",
       "      <td>5</td>\n",
       "    </tr>\n",
       "  </tbody>\n",
       "</table>\n",
       "<p>3377 rows × 4 columns</p>\n",
       "</div>"
      ],
      "text/plain": [
       "     Cadastral territory Municipality              Region  Bee keepers\n",
       "0                Abrahám      Abrahám             GALANTA           14\n",
       "1            Abrahámovce  Abrahámovce            BARDEJOV            1\n",
       "2            Abrahámovce  Abrahámovce            KEŽMAROK            4\n",
       "3               Abramová     Abramová  TURČIANSKE TEPLICE            1\n",
       "4              Abranovce    Abranovce              PREŠOV            1\n",
       "...                  ...          ...                 ...          ...\n",
       "3372             Žlkovce      Žlkovce            HLOHOVEC            6\n",
       "3373              Župkov       Župkov           ŽARNOVICA           13\n",
       "3374             Župčany      Župčany              PREŠOV            8\n",
       "3375                 Žíp          Žíp     RIMAVSKÁ SOBOTA            5\n",
       "3376             Žírovce      Herľany       KOŠICE-OKOLIE            5\n",
       "\n",
       "[3377 rows x 4 columns]"
      ]
     },
     "execution_count": 12,
     "metadata": {},
     "output_type": "execute_result"
    }
   ],
   "source": [
    "count_bee_keepers_df.drop(\"Cadastral territory\",axis=1)\n",
    "count_bee_keepers_df.drop(\"Municipality\",axis=1)\n",
    "count_bee_keepers_df.drop(\"Region\",axis=1)\n",
    "count_bee_keepers_df.drop(\"County\",axis=1)"
   ]
  },
  {
   "cell_type": "markdown",
   "id": "2ee07a5c",
   "metadata": {},
   "source": [
    "Calculate number of bee hives per cadastral territory: (count amount for each instance)"
   ]
  },
  {
   "cell_type": "code",
   "execution_count": 13,
   "id": "5bab82c5",
   "metadata": {},
   "outputs": [
    {
     "name": "stdout",
     "output_type": "stream",
     "text": [
      "      Cadastral territory         Municipality   Region   County  Amount  \\\n",
      "0     Vinohrady nad Váhom  Vinohrady nad Váhom  GALANTA  Galanta      30   \n",
      "1                Vozokany             Vozokany  GALANTA  Galanta      10   \n",
      "2          Zemianske Sady       Zemianske Sady  GALANTA  Galanta      10   \n",
      "3                 Šoporňa              Šoporňa  GALANTA  Galanta       4   \n",
      "4              Tomášikovo           Tomášikovo  GALANTA  Galanta     100   \n",
      "...                   ...                  ...      ...      ...     ...   \n",
      "3372               Bzovík               Bzovík  KRUPINA   Zvolen       1   \n",
      "3373      Bzovská Lehôtka      Bzovská Lehôtka   ZVOLEN   Zvolen      18   \n",
      "3374               Cerovo               Cerovo  KRUPINA   Zvolen       9   \n",
      "3375    Čabradský Vrbovok    Čabradský Vrbovok  KRUPINA   Zvolen       4   \n",
      "3376              Čekovce              Čekovce  KRUPINA   Zvolen      11   \n",
      "\n",
      "      Bee hives  \n",
      "0           295  \n",
      "1            85  \n",
      "2            61  \n",
      "3           205  \n",
      "4           124  \n",
      "...         ...  \n",
      "3372        143  \n",
      "3373         28  \n",
      "3374         10  \n",
      "3375         39  \n",
      "3376        273  \n",
      "\n",
      "[3377 rows x 6 columns]\n"
     ]
    }
   ],
   "source": [
    "sum_df = df.groupby(['Cadastral territory', 'Municipality', 'Region', 'County'])['Amount'].sum().reset_index(name='Bee hives')\n",
    "\n",
    "# Merge the sum information back into the DataFrame with unique instances\n",
    "count_bee_hives_df = pd.merge(df1, sum_df, on=['Cadastral territory', 'Municipality', 'Region', 'County'], how='left')\n",
    "\n",
    "# Fill NaN values in the 'Bee hives' column with 0\n",
    "count_bee_hives_df['Bee hives'].fillna(0, inplace=True)\n",
    "\n",
    "print(count_bee_hives_df)"
   ]
  },
  {
   "cell_type": "markdown",
   "id": "b9788278",
   "metadata": {},
   "source": [
    "FINAL DATA FRAME WITH NUMBER OF BEE HIVES PER CADASTRAL TERRITORY:"
   ]
  },
  {
   "cell_type": "code",
   "execution_count": 14,
   "id": "c3cbf83d",
   "metadata": {},
   "outputs": [
    {
     "data": {
      "text/html": [
       "<div>\n",
       "<style scoped>\n",
       "    .dataframe tbody tr th:only-of-type {\n",
       "        vertical-align: middle;\n",
       "    }\n",
       "\n",
       "    .dataframe tbody tr th {\n",
       "        vertical-align: top;\n",
       "    }\n",
       "\n",
       "    .dataframe thead th {\n",
       "        text-align: right;\n",
       "    }\n",
       "</style>\n",
       "<table border=\"1\" class=\"dataframe\">\n",
       "  <thead>\n",
       "    <tr style=\"text-align: right;\">\n",
       "      <th></th>\n",
       "      <th>Cadastral territory</th>\n",
       "      <th>Municipality</th>\n",
       "      <th>Region</th>\n",
       "      <th>County</th>\n",
       "      <th>Bee hives</th>\n",
       "    </tr>\n",
       "  </thead>\n",
       "  <tbody>\n",
       "    <tr>\n",
       "      <th>0</th>\n",
       "      <td>Vinohrady nad Váhom</td>\n",
       "      <td>Vinohrady nad Váhom</td>\n",
       "      <td>GALANTA</td>\n",
       "      <td>Galanta</td>\n",
       "      <td>295</td>\n",
       "    </tr>\n",
       "    <tr>\n",
       "      <th>1</th>\n",
       "      <td>Vozokany</td>\n",
       "      <td>Vozokany</td>\n",
       "      <td>GALANTA</td>\n",
       "      <td>Galanta</td>\n",
       "      <td>85</td>\n",
       "    </tr>\n",
       "    <tr>\n",
       "      <th>2</th>\n",
       "      <td>Zemianske Sady</td>\n",
       "      <td>Zemianske Sady</td>\n",
       "      <td>GALANTA</td>\n",
       "      <td>Galanta</td>\n",
       "      <td>61</td>\n",
       "    </tr>\n",
       "    <tr>\n",
       "      <th>3</th>\n",
       "      <td>Šoporňa</td>\n",
       "      <td>Šoporňa</td>\n",
       "      <td>GALANTA</td>\n",
       "      <td>Galanta</td>\n",
       "      <td>205</td>\n",
       "    </tr>\n",
       "    <tr>\n",
       "      <th>4</th>\n",
       "      <td>Tomášikovo</td>\n",
       "      <td>Tomášikovo</td>\n",
       "      <td>GALANTA</td>\n",
       "      <td>Galanta</td>\n",
       "      <td>124</td>\n",
       "    </tr>\n",
       "    <tr>\n",
       "      <th>...</th>\n",
       "      <td>...</td>\n",
       "      <td>...</td>\n",
       "      <td>...</td>\n",
       "      <td>...</td>\n",
       "      <td>...</td>\n",
       "    </tr>\n",
       "    <tr>\n",
       "      <th>3372</th>\n",
       "      <td>Bzovík</td>\n",
       "      <td>Bzovík</td>\n",
       "      <td>KRUPINA</td>\n",
       "      <td>Zvolen</td>\n",
       "      <td>143</td>\n",
       "    </tr>\n",
       "    <tr>\n",
       "      <th>3373</th>\n",
       "      <td>Bzovská Lehôtka</td>\n",
       "      <td>Bzovská Lehôtka</td>\n",
       "      <td>ZVOLEN</td>\n",
       "      <td>Zvolen</td>\n",
       "      <td>28</td>\n",
       "    </tr>\n",
       "    <tr>\n",
       "      <th>3374</th>\n",
       "      <td>Cerovo</td>\n",
       "      <td>Cerovo</td>\n",
       "      <td>KRUPINA</td>\n",
       "      <td>Zvolen</td>\n",
       "      <td>10</td>\n",
       "    </tr>\n",
       "    <tr>\n",
       "      <th>3375</th>\n",
       "      <td>Čabradský Vrbovok</td>\n",
       "      <td>Čabradský Vrbovok</td>\n",
       "      <td>KRUPINA</td>\n",
       "      <td>Zvolen</td>\n",
       "      <td>39</td>\n",
       "    </tr>\n",
       "    <tr>\n",
       "      <th>3376</th>\n",
       "      <td>Čekovce</td>\n",
       "      <td>Čekovce</td>\n",
       "      <td>KRUPINA</td>\n",
       "      <td>Zvolen</td>\n",
       "      <td>273</td>\n",
       "    </tr>\n",
       "  </tbody>\n",
       "</table>\n",
       "<p>3377 rows × 5 columns</p>\n",
       "</div>"
      ],
      "text/plain": [
       "      Cadastral territory         Municipality   Region   County  Bee hives\n",
       "0     Vinohrady nad Váhom  Vinohrady nad Váhom  GALANTA  Galanta        295\n",
       "1                Vozokany             Vozokany  GALANTA  Galanta         85\n",
       "2          Zemianske Sady       Zemianske Sady  GALANTA  Galanta         61\n",
       "3                 Šoporňa              Šoporňa  GALANTA  Galanta        205\n",
       "4              Tomášikovo           Tomášikovo  GALANTA  Galanta        124\n",
       "...                   ...                  ...      ...      ...        ...\n",
       "3372               Bzovík               Bzovík  KRUPINA   Zvolen        143\n",
       "3373      Bzovská Lehôtka      Bzovská Lehôtka   ZVOLEN   Zvolen         28\n",
       "3374               Cerovo               Cerovo  KRUPINA   Zvolen         10\n",
       "3375    Čabradský Vrbovok    Čabradský Vrbovok  KRUPINA   Zvolen         39\n",
       "3376              Čekovce              Čekovce  KRUPINA   Zvolen        273\n",
       "\n",
       "[3377 rows x 5 columns]"
      ]
     },
     "execution_count": 14,
     "metadata": {},
     "output_type": "execute_result"
    }
   ],
   "source": [
    "count_bee_hives_df.drop(\"Amount\",axis=1)"
   ]
  },
  {
   "cell_type": "markdown",
   "id": "8e59f529",
   "metadata": {},
   "source": [
    "RESULT DATAFRAME:"
   ]
  },
  {
   "cell_type": "code",
   "execution_count": 20,
   "id": "ccb40434",
   "metadata": {},
   "outputs": [
    {
     "name": "stdout",
     "output_type": "stream",
     "text": [
      "     Cadastral territory Municipality              Region           County  \\\n",
      "0                Abrahám      Abrahám             GALANTA          Galanta   \n",
      "1            Abrahámovce  Abrahámovce            BARDEJOV         Bardejov   \n",
      "2            Abrahámovce  Abrahámovce            KEŽMAROK           Poprad   \n",
      "3               Abramová     Abramová  TURČIANSKE TEPLICE           Martin   \n",
      "4              Abranovce    Abranovce              PREŠOV           Prešov   \n",
      "...                  ...          ...                 ...              ...   \n",
      "3372             Žlkovce      Žlkovce            HLOHOVEC           Trnava   \n",
      "3373              Župkov       Župkov           ŽARNOVICA  Žiar nad Hronom   \n",
      "3374             Župčany      Župčany              PREŠOV           Prešov   \n",
      "3375                 Žíp          Žíp     RIMAVSKÁ SOBOTA  Rimavská Sobota   \n",
      "3376             Žírovce      Herľany       KOŠICE-OKOLIE  Košice - okolie   \n",
      "\n",
      "      Bee keepers  Bee hives  \n",
      "0              14        295  \n",
      "1               1         85  \n",
      "2               4         61  \n",
      "3               1        205  \n",
      "4               1        124  \n",
      "...           ...        ...  \n",
      "3372            6        143  \n",
      "3373           13         28  \n",
      "3374            8         10  \n",
      "3375            5         39  \n",
      "3376            5        273  \n",
      "\n",
      "[3377 rows x 6 columns]\n"
     ]
    },
    {
     "name": "stderr",
     "output_type": "stream",
     "text": [
      "C:\\Users\\mojzi\\anaconda3\\Lib\\site-packages\\pandas\\util\\_decorators.py:211: FutureWarning: the 'encoding' keyword is deprecated and will be removed in a future version. Please take steps to stop the use of 'encoding'\n",
      "  return func(*args, **kwargs)\n"
     ]
    }
   ],
   "source": [
    "#Combine bee keepers and bee hives dfs\n",
    "count_bee_keepers_df['Bee hives'] = count_bee_hives_df['Bee hives']\n",
    "result_df = count_bee_keepers_df\n",
    "count_bee_keepers_df.drop('Bee hives', axis=1)\n",
    "\n",
    "print(result_df)\n",
    "result_df.to_excel('per_cadastral_territory_excel.xlsx', index=False, encoding='utf-8')\n",
    "result_df.to_csv('per_cadastral_territory_csv.csv', index=False, encoding='utf-8')"
   ]
  },
  {
   "cell_type": "code",
   "execution_count": null,
   "id": "2c686062",
   "metadata": {},
   "outputs": [],
   "source": []
  },
  {
   "cell_type": "code",
   "execution_count": null,
   "id": "ce2e0ad2",
   "metadata": {},
   "outputs": [],
   "source": []
  },
  {
   "cell_type": "code",
   "execution_count": null,
   "id": "8529d382",
   "metadata": {},
   "outputs": [],
   "source": []
  },
  {
   "cell_type": "code",
   "execution_count": null,
   "id": "1de73952",
   "metadata": {},
   "outputs": [],
   "source": []
  }
 ],
 "metadata": {
  "kernelspec": {
   "display_name": "Python 3 (ipykernel)",
   "language": "python",
   "name": "python3"
  },
  "language_info": {
   "codemirror_mode": {
    "name": "ipython",
    "version": 3
   },
   "file_extension": ".py",
   "mimetype": "text/x-python",
   "name": "python",
   "nbconvert_exporter": "python",
   "pygments_lexer": "ipython3",
   "version": "3.11.3"
  }
 },
 "nbformat": 4,
 "nbformat_minor": 5
}
